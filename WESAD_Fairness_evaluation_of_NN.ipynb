{
  "cells": [
    {
      "cell_type": "markdown",
      "metadata": {
        "id": "view-in-github",
        "colab_type": "text"
      },
      "source": [
        "<a href=\"https://colab.research.google.com/github/FHnt97/About_myself/blob/master/WESAD_Fairness_evaluation_of_NN.ipynb\" target=\"_parent\"><img src=\"https://colab.research.google.com/assets/colab-badge.svg\" alt=\"Open In Colab\"/></a>"
      ]
    },
    {
      "cell_type": "markdown",
      "metadata": {
        "id": "k47uXogQN7DK"
      },
      "source": [
        "# Fair AI in the workplace\n",
        "## A study on a fair CNN for stress detection\n",
        "\n",
        "---\n"
      ]
    },
    {
      "cell_type": "markdown",
      "source": [
        "## Content:\n",
        "\n",
        "Find an introduction to the aim and dataset in the README file."
      ],
      "metadata": {
        "id": "tGvsdbnyphkC"
      }
    },
    {
      "cell_type": "markdown",
      "source": [
        "\n",
        "- **Dataset**\n",
        "    - WESAD dataset\n",
        "    - **Sensitve attributes**: age (non binary attribute) & gender (binary attribute)\n",
        "    - Inbalanced representation of groups in sample (sample size disparity)\n",
        "- **Domain**\n",
        "    - Operations management (stress detection) \n",
        "- **ML task**\n",
        "    - Neutral network  \n",
        "    \n",
        "    > Adapted from [githum repo](https://github.com/arsen-movsesyan/springboard_WESAD) & Schmidt et al (2018) work. \n",
        "    > Code for data extraction [github repo](https://github.com/WJMatthew/WESAD) & [blog entry](https://godatadriven.com/blog/) \n",
        "\n",
        "\n",
        "- **Fairness tasks**\n",
        "    - Assessment of fairness\n",
        "\n",
        "    - *Not in notebook, but to consider for future projects:* \n",
        "       - *Mitigation of unfairness with the objective to of equal number of FALSE NEGATIVES for all (LAFTR, CFAIR, FFVAE)* \n",
        "\n",
        "- **Performance metrics**:\n",
        "    - Confusion matrix\n",
        "    - Accuracy \n",
        "\n",
        "\n",
        "- **Fairness metrics** *Not in notebook, but to consider for future projects:*\n",
        "    - Fairness metrics from the [FairDeepLearning](https://github.com/charan223/FairDeepLearning/tree/main/metrics) library\n",
        "    - FN rate & Equal opportunity [link](https://fairware.cs.umass.edu/papers/Verma.pdf)\n",
        "    - Accuracy\n",
        "  \n",
        "\n",
        "\n",
        "\n",
        "\n",
        "```\n",
        "# Nomeclature: \n",
        "\n",
        "X ∈ Rᵈ: quantified features of the applicant\n",
        "\n",
        "A ∈ {0, 1}: binary sensitive attribute gender\n",
        "\n",
        "C :=c(X,A) ∈ {0,1}: binary predictor (stressed vs. ok), which makes decision based on a score R:=r(x, a) ∈ [0,1]\n",
        "\n",
        "Y ∈ {0, 1}: target variable\n",
        "\n",
        "```\n",
        "\n",
        "\n",
        "\n",
        "\n",
        "\n",
        "\n"
      ],
      "metadata": {
        "id": "cuSSRSOjph66"
      }
    },
    {
      "cell_type": "markdown",
      "source": [
        "## BASE CODE"
      ],
      "metadata": {
        "id": "O0Y4pgaSqwAm"
      }
    },
    {
      "cell_type": "markdown",
      "source": [
        "### Libraries"
      ],
      "metadata": {
        "id": "Vm-FuP7Wqx9F"
      }
    },
    {
      "cell_type": "code",
      "execution_count": 1,
      "metadata": {
        "id": "vPdszu9IF3a4"
      },
      "outputs": [],
      "source": [
        "# import general libraries for the notebook\n",
        "import pandas as pd\n",
        "import numpy as np\n",
        "import matplotlib.pyplot as plt\n",
        "import seaborn as sns\n",
        "%matplotlib inline\n",
        "\n",
        "# libraries for data processing\n",
        "from sklearn import preprocessing\n",
        "from sklearn.model_selection import train_test_split"
      ]
    },
    {
      "cell_type": "code",
      "execution_count": 2,
      "metadata": {
        "id": "1Zfbz1UpIvwF"
      },
      "outputs": [],
      "source": [
        "# import additional modules for fairness\n",
        "# ! pip install fairlearn"
      ]
    },
    {
      "cell_type": "markdown",
      "source": [
        "### Data load and wrangling\n",
        "\n",
        "The exploratory analysis of this dataset can be found in the first notebook on the dataset: WESAD - Debiasing Classification Algorithms."
      ],
      "metadata": {
        "id": "G0OplJsVq1Uf"
      }
    },
    {
      "cell_type": "code",
      "execution_count": 3,
      "metadata": {
        "colab": {
          "base_uri": "https://localhost:8080/"
        },
        "id": "GfGiVocLTLJH",
        "outputId": "07d0a928-38c1-4bac-aa5f-b4ca71d72360"
      },
      "outputs": [
        {
          "output_type": "stream",
          "name": "stdout",
          "text": [
            "Mounted at /content/drive\n"
          ]
        }
      ],
      "source": [
        "# connect to drive\n",
        "from google.colab import drive\n",
        "drive.mount('/content/drive')"
      ]
    },
    {
      "cell_type": "code",
      "execution_count": 4,
      "metadata": {
        "id": "VSOXk2MLWi6Y"
      },
      "outputs": [],
      "source": [
        "# open csv historical data\n",
        "# if using collab use -->\n",
        "path = '/content/drive/MyDrive/00 - thesis/Thesis - Fabia Höhne/Datasets/WESAD/m14_merged.csv'\n",
        "\n",
        "# if using the GitHub repo use -->\n",
        "# path = './Datasets/WESAD/m14_merged.csv'\n",
        "\n",
        "df = pd.read_csv(path, sep=',', index_col=0)"
      ]
    },
    {
      "cell_type": "code",
      "execution_count": 5,
      "metadata": {
        "id": "2I40K1hnRcfP"
      },
      "outputs": [],
      "source": [
        "# reorder df columns & remove features which will not be used (lifestyle features, 3D data)\n",
        "# remove min, max values, as mean & st. dev are already calculated\n",
        "# remove according to corr analysis --> total of 18 attributes left \n",
        "\n",
        "cols = ['subject', 'label', \n",
        "        'age','gender_ female',\n",
        "        'height', 'weight', \n",
        "        'BVP_std', \n",
        "        'EDA_mean', 'EDA_std', \n",
        "        'EDA_phasic_mean','EDA_phasic_std', \n",
        "        'EDA_smna_mean','EDA_smna_std', \n",
        "        'EDA_tonic_mean','EDA_tonic_std',  \n",
        "        'Resp_std', \n",
        "        'TEMP_mean', 'TEMP_slope']\n",
        "\n",
        "df = df[cols]\n"
      ]
    },
    {
      "cell_type": "code",
      "execution_count": 6,
      "metadata": {
        "id": "u4oiehdkR_66"
      },
      "outputs": [],
      "source": [
        "# rename gender (male:0, female:1)\n",
        "df = df.rename(columns = {'gender_ female':'gender'})"
      ]
    },
    {
      "cell_type": "code",
      "execution_count": 7,
      "metadata": {
        "id": "TrQh8Q_MaCau"
      },
      "outputs": [],
      "source": [
        "# remove amusement state \n",
        "# 1: baseline, 2: stressed\n",
        "df = df.loc[~(df['label'] == 0)]"
      ]
    },
    {
      "cell_type": "code",
      "execution_count": 8,
      "metadata": {
        "id": "f93wZtUBUVI8"
      },
      "outputs": [],
      "source": [
        "# chang 1,2 classification to 0,1 classification to avoid problems down the line\n",
        "# 0: baseline, 1: stressed\n",
        "df['label'] = df['label'].replace({1: 0})\n",
        "df['label'] = df['label'].replace({2: 1})"
      ]
    },
    {
      "cell_type": "markdown",
      "metadata": {
        "id": "4N07tyd8IGzq"
      },
      "source": [
        "### Exploratory Analysis\n",
        "\n",
        "---\n",
        "The exploratory analysis of the data can be found in the first notebook to this dataset: WESAD - Debiasing Calssifitcaiton Algorithms.\n"
      ]
    },
    {
      "cell_type": "markdown",
      "metadata": {
        "id": "Qm0kRPE6IQ3U"
      },
      "source": [
        "## Stress Model\n",
        "-----\n"
      ]
    },
    {
      "cell_type": "markdown",
      "source": [
        " In addition to the model presented in the WESAD - Debiaisng Classification Algorithm, [Stweard et al. (2020)](https://arxiv.org/pdf/2002.04176.pdf) present a **neural network** to detect stress for each participant usign torch.nn with:\n",
        "  - 3 layers\n",
        "  - 30 nodes latent variable 16 nodes\n",
        "  - decoder with 3 dense 30 node hidden layers\n",
        "  - dropout rate 0,2. \n",
        "\n",
        "The code below shows an adaptation of this model specific for the WESAD dataset with the objective to analyse how fair the model is for the different age and gender groups. "
      ],
      "metadata": {
        "id": "DhQm1KAVrcwq"
      }
    },
    {
      "cell_type": "markdown",
      "metadata": {
        "id": "lOtqxcHmajJ4"
      },
      "source": [
        "#### libraries and helper functions"
      ]
    },
    {
      "cell_type": "code",
      "execution_count": 9,
      "metadata": {
        "id": "IOt0wv0I2fxk"
      },
      "outputs": [],
      "source": [
        "# libraries for metrics of models\n",
        "from sklearn.metrics import (\n",
        "    accuracy_score, confusion_matrix,\n",
        "    accuracy_score, \n",
        "    f1_score, \n",
        "    precision_score, \n",
        "    confusion_matrix, \n",
        "    recall_score,\n",
        "    plot_confusion_matrix,\n",
        "    classification_report,\n",
        "    balanced_accuracy_score)\n",
        "\n",
        "# torch for nn\n",
        "import logging\n",
        "\n",
        "import torch\n",
        "import torch.nn as nn\n",
        "import torch.nn.functional as F\n",
        "from torch.autograd import Function\n",
        "from torch.utils.data import Dataset\n",
        "\n",
        "import warnings\n",
        "warnings.filterwarnings('ignore')"
      ]
    },
    {
      "cell_type": "markdown",
      "metadata": {
        "id": "wh0Kz1-PBJFg"
      },
      "source": [
        "### NN (using py-torch)"
      ]
    },
    {
      "cell_type": "code",
      "execution_count": 10,
      "metadata": {
        "colab": {
          "base_uri": "https://localhost:8080/"
        },
        "id": "uQ0XYT24slEx",
        "outputId": "efdddc5c-1634-492a-ebb0-49e0f70c0bee"
      },
      "outputs": [
        {
          "output_type": "stream",
          "name": "stdout",
          "text": [
            "Using cpu device\n"
          ]
        }
      ],
      "source": [
        "# check for cuda availability \n",
        "device = \"cuda\" if torch.cuda.is_available() else \"cpu\"\n",
        "print(f\"Using {device} device\")\n",
        "\n",
        "# cuda not available - continue with CPU"
      ]
    },
    {
      "cell_type": "code",
      "execution_count": 11,
      "metadata": {
        "id": "-ikd7FuRBHvw"
      },
      "outputs": [],
      "source": [
        "# set up model: nn \n",
        "# take one berson as a ''batch'' - similarily as using one image for image recognition\n",
        "# adapted from - https://www.cs.toronto.edu/~lczhang/360/lec/w02/training.html\n",
        "\n",
        "class WESAD(Dataset):\n",
        "\n",
        "    def __init__(self, dataframe):\n",
        "        self.dataframe = dataframe.drop('subject', axis=1)\n",
        "        self.labels = self.dataframe['label'].values\n",
        "        self.dataframe.drop('label', axis=1, inplace=True)\n",
        "    \n",
        "    def __getitem__(self, id):\n",
        "        x = self.dataframe.iloc[id].values\n",
        "        y = self.labels[id]\n",
        "        z = self.dataframe[['gender']].iloc[id].values\n",
        "        return torch.Tensor(x), y, z\n",
        "\n",
        "    def __len__(self):\n",
        "        return len(self.dataframe)\n",
        "\n",
        "logger = logging.getLogger(__name__)"
      ]
    },
    {
      "cell_type": "code",
      "execution_count": 12,
      "metadata": {
        "id": "lX6OvL3uK7m6"
      },
      "outputs": [],
      "source": [
        "# get EACH subject individually\n",
        "def get_data_loaders(dataframe, subject_id, train_batch_size=25, test_batch_size=5):\n",
        "    \n",
        "    # define one subject\n",
        "    train_df = dataframe[ dataframe['subject'] != subject_id].reset_index(drop=True)\n",
        "    test_df = dataframe[ dataframe['subject'] == subject_id].reset_index(drop=True)\n",
        "    \n",
        "    # create dataset for each subject\n",
        "    train_dataset = WESAD(train_df)\n",
        "    test_dataset = WESAD(test_df)\n",
        "\n",
        "    # load for each subject (automatic batching + iterable dataset)\n",
        "    # adapted form: https://pytorch.org/docs/stable/data.html#torch.utils.data.DataLoader\n",
        "    train_loader = torch.utils.data.DataLoader(train_dataset, batch_size=train_batch_size, shuffle=True)\n",
        "    test_loader = torch.utils.data.DataLoader(test_dataset, batch_size=test_batch_size)\n",
        "    \n",
        "    return train_loader, test_loader"
      ]
    },
    {
      "cell_type": "code",
      "execution_count": 13,
      "metadata": {
        "id": "Mc0gCcNnNl1R"
      },
      "outputs": [],
      "source": [
        "# data is temporal + of individual subject .: sequential\n",
        "class nnetwork (nn.Module):\n",
        "    def __init__(self):\n",
        "        super(nnetwork, self).__init__()\n",
        "        self.fc = nn.Sequential( # fully connected layer == fc\n",
        "                        nn.Linear(16, 128), # cols -2 (cols subject & label)\n",
        "                        nn.ReLU(),\n",
        "                        nn.Dropout(p=0.2), # improve nn by preventing co-adaptation (regularization by disabling neurons)\n",
        "                        nn.Linear(128, 256), # dimensions\n",
        "                        nn.ReLU(),\n",
        "                        nn.Linear(256, 2), # 1,2 as class labels .: make it a 3 class (0,1,2) classification problem \n",
        "                        nn.LogSoftmax(dim=1))\n",
        "        \n",
        "    def forward(self, x):\n",
        "        return self.fc(x)  "
      ]
    },
    {
      "cell_type": "code",
      "execution_count": 14,
      "metadata": {
        "id": "y5Lovj6hM_AW"
      },
      "outputs": [],
      "source": [
        "def train(model, optimizer, train_loader, validation_loader):\n",
        "    history = {'train_loss': {}, 'train_acc': {}, 'valid_loss': {}, 'valid_acc': {}}\n",
        "    \n",
        "    # for each epoch save data & save avg. in list --> # loop over dataset\n",
        "    # https://pytorch.org/tutorials/beginner/blitz/cifar10_tutorial.html\n",
        "    for epoch in range(num_epochs):\n",
        "\n",
        "        # Train:   \n",
        "        total = 0\n",
        "        correct = 0\n",
        "        trainlosses = []\n",
        "\n",
        "        # train each subject (idx)\n",
        "        for idx, (input, labels, sensitive) in enumerate(train_loader):\n",
        "\n",
        "            # forward pass\n",
        "            outputs = model(input.float())\n",
        "\n",
        "            # loss\n",
        "            loss = criterion(outputs, labels)\n",
        "\n",
        "            # optimize\n",
        "            optimizer.zero_grad()\n",
        "            \n",
        "            # backward \n",
        "            loss.backward()\n",
        "            optimizer.step()\n",
        "\n",
        "            trainlosses.append(loss.item())\n",
        "\n",
        "            # compute accuracy\n",
        "            _, argmax = torch.max(outputs, 1)\n",
        "            correct += (labels == argmax).sum().item() \n",
        "            total += len(labels)\n",
        "\n",
        "        history['train_loss'][epoch] = np.mean(trainlosses) \n",
        "        history['train_acc'][epoch] = correct/total \n",
        "\n",
        "        # print for each 10 epochs for ALL subejcts\n",
        "        if epoch % 10 == 0:\n",
        "            with torch.no_grad():\n",
        "\n",
        "                losses = []\n",
        "                total = 0\n",
        "                correct = 0\n",
        "\n",
        "                for input, labels, sensitive in validation_loader:\n",
        "\n",
        "                    # Forward pass\n",
        "                    outputs = model(input.float())\n",
        "                    loss = criterion(outputs, labels)\n",
        "\n",
        "                    # Compute accuracy\n",
        "                    _, argmax = torch.max(outputs, 1)\n",
        "                    correct += (labels == argmax).sum().item() #.mean()\n",
        "                    total += len(labels)\n",
        "\n",
        "                    losses.append(loss.item())\n",
        "\n",
        "                # save data    \n",
        "                history['valid_acc'][epoch] = np.round(correct/total, 3)\n",
        "                history['valid_loss'][epoch] = np.mean(losses)\n",
        "\n",
        "                print(f'Epoch [{epoch+1}/{num_epochs}], Loss: {np.mean(losses):.4}, Acc: {correct/total:.2}')\n",
        "                \n",
        "    return history"
      ]
    },
    {
      "cell_type": "code",
      "execution_count": 21,
      "metadata": {
        "id": "0zWuTd6E6ub5"
      },
      "outputs": [],
      "source": [
        "def test(model, validation_loader):\n",
        "    print('Evaluating model...')\n",
        "    # Test\n",
        "    model.eval()\n",
        "\n",
        "    # reset 'memory' to have data on all subjects\n",
        "    total = 0\n",
        "    correct = 0\n",
        "    testlosses = []\n",
        "    correct_labels = []\n",
        "    predictions = []\n",
        "\n",
        "    # https://pytorch.org/docs/stable/generated/torch.no_grad.html\n",
        "    with torch.no_grad():\n",
        "\n",
        "        for batch_index, (input, labels, sensitive) in enumerate(validation_loader):\n",
        "\n",
        "            # Forward pass\n",
        "            outputs = model(input.float())\n",
        "\n",
        "            # Loss\n",
        "            loss = criterion(outputs, labels)\n",
        "\n",
        "            testlosses.append(loss.item())\n",
        "\n",
        "            # Compute accuracy\n",
        "            _, argmax = torch.max(outputs, 1)\n",
        "            correct += (labels == argmax).sum().item() #.mean()\n",
        "            total += len(labels)\n",
        "\n",
        "            correct_labels.extend(labels)\n",
        "            predictions.extend(argmax)\n",
        "\n",
        "\n",
        "    test_loss = np.mean(testlosses)\n",
        "    accuracy = np.round(correct/total, 2)\n",
        "    print(f'Loss: {test_loss:.4}, Acc: {accuracy:.2}')\n",
        "    \n",
        "    y_true = [label.item() for label in correct_labels]\n",
        "    y_pred = [label.item() for label in predictions]\n",
        "\n",
        "    cm = confusion_matrix(y_true, y_pred)\n",
        "    test_acc = accuracy_score(y_true, y_pred)\n",
        "\n",
        "\n",
        "    return cm, test_loss, test_acc, accuracy"
      ]
    },
    {
      "cell_type": "code",
      "execution_count": 23,
      "metadata": {
        "id": "gEGoolcJNTPr",
        "colab": {
          "base_uri": "https://localhost:8080/"
        },
        "outputId": "d414b573-b921-4dbd-ffc2-55d368850133"
      },
      "outputs": [
        {
          "output_type": "stream",
          "name": "stdout",
          "text": [
            "\n",
            "Subject:  2\n",
            "Epoch [1/11], Loss: 0.6784, Acc: 0.63\n",
            "Epoch [11/11], Loss: 0.5255, Acc: 0.78\n",
            "Evaluating model...\n",
            "Loss: 0.4632, Acc: 0.79\n",
            "\n",
            "Subject:  3\n",
            "Epoch [1/11], Loss: 0.7091, Acc: 0.64\n",
            "Epoch [11/11], Loss: 0.4981, Acc: 0.77\n",
            "Evaluating model...\n",
            "Loss: 0.4758, Acc: 0.77\n",
            "\n",
            "Subject:  4\n",
            "Epoch [1/11], Loss: 0.5624, Acc: 0.7\n",
            "Epoch [11/11], Loss: 0.1058, Acc: 0.98\n",
            "Evaluating model...\n",
            "Loss: 0.06082, Acc: 1.0\n",
            "\n",
            "Subject:  5\n",
            "Epoch [1/11], Loss: 0.644, Acc: 0.65\n",
            "Epoch [11/11], Loss: 0.1671, Acc: 0.92\n",
            "Evaluating model...\n",
            "Loss: 0.09651, Acc: 0.97\n",
            "\n",
            "Subject:  6\n",
            "Epoch [1/11], Loss: 0.783, Acc: 0.65\n",
            "Epoch [11/11], Loss: 0.0877, Acc: 1.0\n",
            "Evaluating model...\n",
            "Loss: 0.09076, Acc: 1.0\n",
            "\n",
            "Subject:  7\n",
            "Epoch [1/11], Loss: 0.7189, Acc: 0.55\n",
            "Epoch [11/11], Loss: 0.3615, Acc: 0.86\n",
            "Evaluating model...\n",
            "Loss: 0.3573, Acc: 0.89\n",
            "\n",
            "Subject:  8\n",
            "Epoch [1/11], Loss: 0.6234, Acc: 0.73\n",
            "Epoch [11/11], Loss: 0.2124, Acc: 0.92\n",
            "Evaluating model...\n",
            "Loss: 0.1732, Acc: 0.94\n",
            "\n",
            "Subject:  9\n",
            "Epoch [1/11], Loss: 0.6532, Acc: 0.65\n",
            "Epoch [11/11], Loss: 0.1499, Acc: 0.94\n",
            "Evaluating model...\n",
            "Loss: 0.08697, Acc: 0.98\n",
            "\n",
            "Subject:  10\n",
            "Epoch [1/11], Loss: 0.7441, Acc: 0.63\n",
            "Epoch [11/11], Loss: 0.2812, Acc: 0.93\n",
            "Evaluating model...\n",
            "Loss: 0.1473, Acc: 0.94\n",
            "\n",
            "Subject:  11\n",
            "Epoch [1/11], Loss: 0.6846, Acc: 0.55\n",
            "Epoch [11/11], Loss: 0.6701, Acc: 0.65\n",
            "Evaluating model...\n",
            "Loss: 0.5713, Acc: 0.67\n",
            "\n",
            "Subject:  13\n",
            "Epoch [1/11], Loss: 0.7473, Acc: 0.55\n",
            "Epoch [11/11], Loss: 0.9684, Acc: 0.56\n",
            "Evaluating model...\n",
            "Loss: 0.9499, Acc: 0.53\n",
            "\n",
            "Subject:  14\n",
            "Epoch [1/11], Loss: 0.6578, Acc: 0.68\n",
            "Epoch [11/11], Loss: 0.3288, Acc: 0.85\n",
            "Evaluating model...\n",
            "Loss: 0.2872, Acc: 0.88\n",
            "\n",
            "Subject:  15\n",
            "Epoch [1/11], Loss: 0.574, Acc: 0.73\n",
            "Epoch [11/11], Loss: 0.1731, Acc: 0.94\n",
            "Evaluating model...\n",
            "Loss: 0.117, Acc: 1.0\n",
            "\n",
            "Subject:  16\n",
            "Epoch [1/11], Loss: 0.7548, Acc: 0.64\n",
            "Epoch [11/11], Loss: 0.1485, Acc: 0.97\n",
            "Evaluating model...\n",
            "Loss: 0.1244, Acc: 1.0\n",
            "\n",
            "Subject:  17\n",
            "Epoch [1/11], Loss: 0.6973, Acc: 0.56\n",
            "Epoch [11/11], Loss: 1.526, Acc: 0.29\n",
            "Evaluating model...\n",
            "Loss: 1.519, Acc: 0.32\n"
          ]
        }
      ],
      "source": [
        "# learning Rate (as proposed by paper)\n",
        "learning_rate = 5e-3\n",
        "\n",
        "# epochs - avoid overfitting\n",
        "num_epochs = 11\n",
        "\n",
        "# loss and optimizer\n",
        "# explanation provided at https://pytorch.org/docs/stable/generated/torch.nn.CrossEntropyLoss.html\n",
        "criterion = nn.CrossEntropyLoss()\n",
        "\n",
        "# emtry bins \n",
        "histories = []\n",
        "confusion_matrices = []\n",
        "test_losses = []\n",
        "test_accs = []\n",
        "\n",
        "\n",
        "subject_id_list = df['subject'].unique() \n",
        "\n",
        "# run all def. and class. for each subject and collect data separately \n",
        "\n",
        "for s in subject_id_list:\n",
        "    print('\\nSubject: ', s)\n",
        "\n",
        "    # activate model\n",
        "    model = nnetwork().to(device)\n",
        "\n",
        "    # add optimizer\n",
        "    optimizer = torch.optim.Adam(model.parameters(), lr=learning_rate)\n",
        "    \n",
        "    # train/ test data loader for each subject\n",
        "    train_loader, test_loader = get_data_loaders(df, s)\n",
        "    \n",
        "    # save results \n",
        "    history = train(model, optimizer, train_loader, test_loader)\n",
        "    histories.append(history)\n",
        "    \n",
        "    cm, test_loss, test_acc, accuracy = test(model, test_loader)\n",
        "    test_losses.append(test_loss)\n",
        "    test_accs.append(test_acc)\n",
        "    confusion_matrices.append(cm)\n",
        "\n"
      ]
    },
    {
      "cell_type": "markdown",
      "source": [
        "### Model evaluation:\n"
      ],
      "metadata": {
        "id": "AxqucAccrsxi"
      }
    },
    {
      "cell_type": "code",
      "execution_count": 24,
      "metadata": {
        "colab": {
          "base_uri": "https://localhost:8080/"
        },
        "id": "PTPsTCzHPtLV",
        "outputId": "1075fed8-c04d-494f-95a4-520844df1797"
      },
      "outputs": [
        {
          "output_type": "execute_result",
          "data": {
            "text/plain": [
              "0.8457168825183532"
            ]
          },
          "metadata": {},
          "execution_count": 24
        }
      ],
      "source": [
        "# mean test accuracy accross all subjects \n",
        "np.mean(test_accs)"
      ]
    },
    {
      "cell_type": "markdown",
      "source": [
        ""
      ],
      "metadata": {
        "id": "Hab8pTmneEMP"
      }
    },
    {
      "cell_type": "code",
      "execution_count": 25,
      "metadata": {
        "colab": {
          "base_uri": "https://localhost:8080/",
          "height": 369
        },
        "id": "xULxOD0bPvEn",
        "outputId": "38727b81-0d58-4750-815f-569e7dc94cca"
      },
      "outputs": [
        {
          "output_type": "display_data",
          "data": {
            "text/plain": [
              "<Figure size 1008x432 with 1 Axes>"
            ],
            "image/png": "[encoded data removed]"
          },
          "metadata": {
            "needs_background": "light"
          }
        }
      ],
      "source": [
        "# plot results for each subject\n",
        "\n",
        "plt.figure(figsize=(14, 6))\n",
        "plt.title('Testing Accuracies by Subject in Testing Data')\n",
        "sns.barplot(x=subject_id_list, y=test_accs, palette='YlGnBu');"
      ]
    },
    {
      "cell_type": "markdown",
      "metadata": {
        "id": "AbDywt6eIVhd"
      },
      "source": [
        "### Fairness Measure (in model eval.)\n",
        "\n",
        "---\n",
        "\n"
      ]
    },
    {
      "cell_type": "markdown",
      "source": [
        "We aim for group fairness, i.e., participants with similar characteristics should be treated similarly.\n",
        "With this, we consider disaggregated evaluations, evaluating performance with respect to different subgroups (age/ gender).\n",
        "\n",
        "\n",
        "As stated in the README, we aim primarily for an equal rate in False Negatives."
      ],
      "metadata": {
        "id": "l6irgd2nsURM"
      }
    },
    {
      "cell_type": "code",
      "execution_count": 26,
      "metadata": {
        "id": "Hcb5KWKvRW6W"
      },
      "outputs": [],
      "source": [
        "# Note that only subjects 8, 11, and 17 are women\n",
        "# 5 is the only subejct who is > 30 \n",
        "gender_lst = df.groupby(['subject']).mean().gender.tolist()\n",
        "age_lst = df.groupby([\"subject\"]).mean().age.tolist()\n",
        "df_results = pd.DataFrame({'subject':subject_id_list,'accuracy':test_accs, 'gender': gender_lst, 'age': age_lst})"
      ]
    },
    {
      "cell_type": "code",
      "execution_count": 27,
      "metadata": {
        "colab": {
          "base_uri": "https://localhost:8080/"
        },
        "id": "JAvC3zZnZzyA",
        "outputId": "a7ed551a-dae1-4722-f82b-00c9af208d2c"
      },
      "outputs": [
        {
          "output_type": "execute_result",
          "data": {
            "text/plain": [
              "gender\n",
              "0.0    0.896347\n",
              "1.0    0.643197\n",
              "Name: accuracy, dtype: float64"
            ]
          },
          "metadata": {},
          "execution_count": 27
        }
      ],
      "source": [
        "# check fore accuracy in age & gender groups\n",
        "df_results.groupby('gender').mean().accuracy"
      ]
    },
    {
      "cell_type": "code",
      "execution_count": 28,
      "metadata": {
        "colab": {
          "base_uri": "https://localhost:8080/"
        },
        "id": "YNUFox69bOCI",
        "outputId": "6d144aab-213b-42e0-8cbf-4da33f6d9229"
      },
      "outputs": [
        {
          "output_type": "execute_result",
          "data": {
            "text/plain": [
              "age\n",
              "24.0    1.000000\n",
              "25.0    1.000000\n",
              "26.0    0.825641\n",
              "27.0    0.875492\n",
              "28.0    0.840947\n",
              "29.0    0.323529\n",
              "35.0    0.969697\n",
              "Name: accuracy, dtype: float64"
            ]
          },
          "metadata": {},
          "execution_count": 28
        }
      ],
      "source": [
        "df_results.groupby('age').mean().accuracy"
      ]
    },
    {
      "cell_type": "code",
      "execution_count": 31,
      "metadata": {
        "colab": {
          "base_uri": "https://localhost:8080/",
          "height": 418
        },
        "id": "iJNhnzCqdX6q",
        "outputId": "038d7d9e-f412-4d4d-e858-36f71dfe6fb0"
      },
      "outputs": [
        {
          "output_type": "display_data",
          "data": {
            "text/plain": [
              "<Figure size 1080x720 with 15 Axes>"
            ],
            "image/png": "[encoded data removed]"
          },
          "metadata": {
            "needs_background": "light"
          }
        }
      ],
      "source": [
        "# plot confusion matrix to see FN rates and differences between subjects\n",
        "plt.figure(figsize=(15,10))\n",
        "\n",
        "for i in range(15):\n",
        "    plt.subplot(4,5 ,i+1)\n",
        "    cm = confusion_matrices[i]\n",
        "    \n",
        "    \n",
        "    sns.heatmap(cm, annot=True, fmt='d', cbar=False, cmap=\"YlGnBu\");\n",
        "    plt.title(f'S{subject_id_list[i]}')\n",
        "    plt.xlabel('Prediction');\n",
        "    plt.ylabel('Acutal value');\n",
        "plt.tight_layout();"
      ]
    },
    {
      "cell_type": "markdown",
      "metadata": {
        "id": "rN0eaoW1bRFA"
      },
      "source": [
        "From the diagrams above, we see a discrepancy between the accuracy of the genders.\n",
        "\n",
        "With the objective to balance the negative class ( a continuation of Equalized Odds), future work should also be done in this instance to mitigate bias. \n",
        "\n",
        "\n",
        "Balance for the negative class requires  the average score of those who belong to the negative class to be the same across groups:\n",
        "`E[S|Y=1,A=a]=E[S|Y=1,A=b]`\n",
        "\n",
        "See more definitions [here](https://afraenkel.github.io/fairness-book/content/07-score-functions.html)."
      ]
    },
    {
      "cell_type": "markdown",
      "metadata": {
        "id": "mdATOrW-FG_n"
      },
      "source": [
        "# AI fairness - Future considerations\n",
        "---\n",
        "\n",
        "Consider best practices:\n",
        "  - dataset documentation\n",
        "  - model reporting and curation\n",
        "  - reproducibility and transparency\n",
        "\n"
      ]
    },
    {
      "cell_type": "code",
      "source": [
        "# libraries for fairness\n",
        "from fairlearn.metrics import MetricFrame\n",
        "\n",
        "# libraries for fairness\n",
        "from fairlearn.postprocessing import ThresholdOptimizer\n",
        "from fairlearn.metrics import (\n",
        "    MetricFrame,\n",
        "    selection_rate, demographic_parity_difference, demographic_parity_ratio,\n",
        "    false_positive_rate, false_negative_rate,\n",
        "    false_positive_rate_difference, false_negative_rate_difference, true_positive_rate, true_negative_rate,\n",
        "    equalized_odds_difference)"
      ],
      "metadata": {
        "id": "v_BAptmbbsT8"
      },
      "execution_count": null,
      "outputs": []
    },
    {
      "cell_type": "markdown",
      "source": [
        "#### Helper functions (WIP - continue after wirting up)\n"
      ],
      "metadata": {
        "id": "AofWqPHhVwCc"
      }
    },
    {
      "cell_type": "code",
      "source": [
        "class Metric:\n",
        "    def __init__(self):\n",
        "        self.name = (\n",
        "            \"Name not implemented\"  ## This should be replaced in implemented metrics.\n",
        "        )\n",
        "        self.iter_counter = 0\n",
        "\n",
        "    def __iter__(self):\n",
        "        self.iter_counter = 0\n",
        "        return self\n",
        "\n",
        "    def __next__(self):\n",
        "        self.iter_counter += 1\n",
        "        if self.iter_counter > 1:\n",
        "            raise StopIteration\n",
        "        return self\n",
        "\n",
        "    def calc(\n",
        "        self,\n",
        "        actual,\n",
        "        predicted,\n",
        "        dict_of_sensitive_lists,\n",
        "        single_sensitive_name,\n",
        "        unprotected_vals,\n",
        "        positive_pred,\n",
        "    ):\n",
        "        \"\"\"\n",
        "        actual                          a list of the actual results on the test set\n",
        "        predicted                       a list of the predicted results\n",
        "        dict_of_sensitive_lsits         dict mapping sensitive attr names to list of sensitive vals\n",
        "        single_sensitive_name           sensitive name (dict key) for the sensitive attr being\n",
        "                                        focused on by this run of the algorithm\n",
        "        unprotected_vals                a list of the unprotected values for all sensitive attrs\n",
        "        positive_pred                   the positive value of the prediction task.\n",
        "        returns                         the calculated result for this metric\n",
        "        The actual and predicted results and the sensitive attribute lists in the dict should have\n",
        "        the same length (the length of the test set).\n",
        "        If there is an error and the metric can not be calculated (e.g., no data is passed in), the\n",
        "        metric returns None.\n",
        "        \"\"\"\n",
        "        raise NotImplementedError(\"calc() in Metric is not implemented\")\n",
        "\n",
        "    def get_name(self):\n",
        "        \"\"\"\n",
        "        Returns a name for the metric.  This will be used as the key for a dictionary and will\n",
        "        also be printed to the final output file.\n",
        "        \"\"\"\n",
        "        return self.name\n",
        "\n",
        "    def is_better_than(self, val1, val2):\n",
        "        \"\"\"\n",
        "        Compares the two given values that were calculated by this metric and returns true if\n",
        "        val1 is better than val2, false otherwise.\n",
        "        \"\"\"\n",
        "        return val1 > val2\n",
        "\n",
        "    def expand_per_dataset(self, privileged_vals, sensitive_dict):\n",
        "        \"\"\"\n",
        "        !Changed to work with MNIST variants!\n",
        "        Optionally allows the expansion of the metric into a returned list of metrics based on the\n",
        "        dataset, e.g., where there is one metric per sensitive attribute given, and a dictionary\n",
        "        mapping sensitive attributes to all seen sensitive values from the data.\n",
        "        \"\"\"\n",
        "        return self"
      ],
      "metadata": {
        "id": "7v6Px_qTWMLi"
      },
      "execution_count": null,
      "outputs": []
    },
    {
      "cell_type": "code",
      "source": [
        "def calc_pos_protected_percents(predicted, sensitive, unprotected_vals, positive_pred):\n",
        "    \"\"\"\n",
        "    Returns P(C=YES|sensitive=privileged) and P(C=YES|sensitive=not privileged) in that order where\n",
        "    C is the predicited classification and where all not privileged values are considered\n",
        "    equivalent.  Assumes that predicted and sensitive have the same lengths.\n",
        "    \"\"\"\n",
        "    unprotected_positive = 0.0\n",
        "    unprotected_negative = 0.0\n",
        "    protected_positive = 0.0\n",
        "    protected_negative = 0.0\n",
        "    for i in range(0, len(predicted)):\n",
        "        protected_val = sensitive[i]\n",
        "        predicted_val = predicted[i]\n",
        "        if protected_val in unprotected_vals:\n",
        "            if str(predicted_val) == str(positive_pred):\n",
        "                unprotected_positive += 1\n",
        "            else:\n",
        "                unprotected_negative += 1\n",
        "        else:\n",
        "            if str(predicted_val) == str(positive_pred):\n",
        "                protected_positive += 1\n",
        "            else:\n",
        "                protected_negative += 1\n",
        "\n",
        "    protected_pos_percent = 0.0\n",
        "    if protected_positive + protected_negative > 0:\n",
        "        protected_pos_percent = protected_positive / (\n",
        "            protected_positive + protected_negative\n",
        "        )\n",
        "    unprotected_pos_percent = 0.0\n",
        "    if unprotected_positive + unprotected_negative > 0:\n",
        "        unprotected_pos_percent = unprotected_positive / (\n",
        "            unprotected_positive + unprotected_negative\n",
        "        )\n",
        "\n",
        "    return unprotected_pos_percent, protected_pos_percent\n",
        "\n",
        "\n",
        "def calc_prob_class_given_sensitive(\n",
        "    predicted, sensitive, predicted_goal, sensitive_goal\n",
        "):\n",
        "    \"\"\"\n",
        "    Returns P(predicted = predicted_goal | sensitive = sensitive_goal).  Assumes that predicted\n",
        "    and sensitive have the same length.  If there are no attributes matching the given\n",
        "    sensitive_goal, this will error.\n",
        "    \"\"\"\n",
        "    match_count = 0.0\n",
        "    total = 0.0\n",
        "    for sens, pred in zip(sensitive, predicted):\n",
        "        if str(sens) == str(sensitive_goal):\n",
        "            total += 1\n",
        "            if str(pred) == str(predicted_goal):\n",
        "                match_count += 1\n",
        "\n",
        "    return match_count / total\n",
        "\n",
        "\n",
        "def calc_fp_fn(actual, predicted, sensitive, unprotected_vals, positive_pred):\n",
        "    \"\"\"\n",
        "    Returns False positive and false negative for protected and unprotected group.\n",
        "    \"\"\"\n",
        "    unprotected_negative = 0.0\n",
        "    protected_positive = 0.0\n",
        "    protected_negative = 0.0\n",
        "    fp_protected = 0.0\n",
        "    fp_unprotected = 0.0\n",
        "    fn_protected = 0.0\n",
        "    fn_unprotected = 0.0\n",
        "    fp_diff = 0.0\n",
        "    for i in range(0, len(predicted)):\n",
        "        protected_val = sensitive[i]\n",
        "        predicted_val = predicted[i]\n",
        "        actual_val = actual[i]\n",
        "        if protected_val in unprotected_vals:\n",
        "            if (str(predicted_val) == str(positive_pred)) & (\n",
        "                str(actual_val) != str(predicted_val)\n",
        "            ):\n",
        "                fp_unprotected += 1\n",
        "            elif (str(predicted_val) != str(positive_pred)) & (\n",
        "                str(actual_val) == str(predicted_val)\n",
        "            ):\n",
        "                fn_unprotected += 1\n",
        "        else:\n",
        "            if (str(predicted_val) == str(positive_pred)) & (\n",
        "                str(actual_val) != str(predicted_val)\n",
        "            ):\n",
        "                fp_protected += 1\n",
        "            elif (str(predicted_val) != str(positive_pred)) & (\n",
        "                str(actual_val) == str(predicted_val)\n",
        "            ):\n",
        "                fn_protected += 1\n",
        "    return fp_unprotected, fp_protected, fn_protected, fn_unprotected\n",
        "    "
      ],
      "metadata": {
        "id": "igzn6snGWRAa"
      },
      "execution_count": null,
      "outputs": []
    },
    {
      "cell_type": "code",
      "source": [
        "\"\"\" Equal opportunity - Protected and unprotected False negative difference\"\"\"\n",
        "\n",
        "class EqOppo_fn_diff(Metric):\n",
        "    def __init__(self):\n",
        "        Metric.__init__(self)\n",
        "        self.name = \"EqOppo_fn_diff\"\n",
        "\n",
        "    def calc(\n",
        "        self,\n",
        "        actual,\n",
        "        predicted,\n",
        "        dict_of_sensitive_lists,\n",
        "        single_sensitive_name,\n",
        "        unprotected_vals,\n",
        "        positive_pred,\n",
        "    ):\n",
        "        sensitive = dict_of_sensitive_lists[single_sensitive_name]\n",
        "        fp_unprotected, fp_protected, fn_protected, fn_unprotected = calc_fp_fn(\n",
        "            actual, predicted, sensitive, unprotected_vals, positive_pred\n",
        "        )\n",
        "\n",
        "        fn_diff = math.fabs(fn_protected - fn_unprotected)\n",
        "\n",
        "        return fn_diff"
      ],
      "metadata": {
        "id": "1WTs1qaeVyUi"
      },
      "execution_count": null,
      "outputs": []
    },
    {
      "cell_type": "code",
      "source": [
        "class Accuracy(Metric):\n",
        "    \"\"\"returns the fraction of correctly classified samples (float)\"\"\"\n",
        "\n",
        "    def __init__(self):\n",
        "        Metric.__init__(self)\n",
        "        self.name = \"accuracy\"\n",
        "\n",
        "    def calc(\n",
        "        self,\n",
        "        actual,\n",
        "        predicted,\n",
        "        dict_of_sensitive_lists,\n",
        "        single_sensitive_name,\n",
        "        unprotected_vals,\n",
        "        positive_pred,\n",
        "    ):\n",
        "\n",
        "        return accuracy_score(actual, predicted)"
      ],
      "metadata": {
        "id": "VdCpYrkQV5dx"
      },
      "execution_count": null,
      "outputs": []
    },
    {
      "cell_type": "code",
      "source": [
        "class CV(Metric):\n",
        "    def __init__(self):\n",
        "        Metric.__init__(self)\n",
        "        self.name = \"CV\"\n",
        "\n",
        "    def calc(\n",
        "        self,\n",
        "        actual,\n",
        "        predicted,\n",
        "        dict_of_sensitive_lists,\n",
        "        single_sensitive_name,\n",
        "        unprotected_vals,\n",
        "        positive_pred,\n",
        "    ):\n",
        "        sensitive = dict_of_sensitive_lists[single_sensitive_name]\n",
        "        unprotected_pos_percent, protected_pos_percent = calc_pos_protected_percents(\n",
        "            predicted, sensitive, unprotected_vals, positive_pred\n",
        "        )\n",
        "        CV = unprotected_pos_percent - protected_pos_percent\n",
        "        return 1.0 - abs(CV)\n",
        "\n",
        "    def is_better_than(self, val1, val2):\n",
        "        dist1 = math.fabs(1.0 - val1)\n",
        "        dist2 = math.fabs(1.0 - val2)\n",
        "        return dist1 < dist2"
      ],
      "metadata": {
        "id": "d_nRsN4IWZkb"
      },
      "execution_count": null,
      "outputs": []
    },
    {
      "cell_type": "markdown",
      "source": [
        "Mitigation of NN:\n",
        "\n",
        "Considerations - are we mitigating bias (removing the problematic signal) - OR adding inclusion (add signal for desired features for a re-weighted signal improved fairness?\n",
        "\n",
        "\n",
        "Bias can come from the actual data or the algorithm (this includes technical bias from data processing & amplified bias from the feedback loops)\n",
        "\n",
        "\n",
        "\n",
        "pre-processing: suppression, class relabeling, reweighing, data transportation, database repairs, data augmentation\n",
        "\n",
        "\n",
        "\n",
        "Learned latent structures & adversarial learning structures\n",
        "\n",
        "\n",
        "We will run the no debias nn, fair, cfair-eo, and cfair models\n",
        "\n",
        "https://afraenkel.github.io/fairness-book/content/07-score-functions.html\n",
        "\n",
        "\n",
        "see link for codes\n"
      ],
      "metadata": {
        "id": "dELXeA6fsW5c"
      }
    }
  ],
  "metadata": {
    "colab": {
      "collapsed_sections": [
        "G0OplJsVq1Uf",
        "4N07tyd8IGzq",
        "AxqucAccrsxi"
      ],
      "name": " WESAD - Fairness evaluation of NN.ipynb",
      "provenance": [],
      "mount_file_id": "1Xo5TrZHHPByGzAI0Kww6NF6Y-m8mjBla",
      "authorship_tag": "ABX9TyPMt27fH3CRtNCg/4nI/X17",
      "include_colab_link": true
    },
    "kernelspec": {
      "display_name": "Python 3",
      "name": "python3"
    },
    "language_info": {
      "name": "python"
    }
  },
  "nbformat": 4,
  "nbformat_minor": 0
}